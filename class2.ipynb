{
 "cells": [
  {
   "cell_type": "code",
   "execution_count": 3,
   "metadata": {},
   "outputs": [
    {
     "name": "stdout",
     "output_type": "stream",
     "text": [
      "The piremeter of tringle is 12.5\n"
     ]
    }
   ],
   "source": [
    "side1=float(input(\"Enter the length of side1:\"))\n",
    "side2=float(input(\"Enter the length of side2:\"))\n",
    "side3=float(input(\"Enter the length of side3:\"))\n",
    "\n",
    "piremeter= side1+side2+side3\n",
    "\n",
    "print(f\"The piremeter of tringle is {piremeter}\")"
   ]
  }
 ],
 "metadata": {
  "kernelspec": {
   "display_name": "Python 3",
   "language": "python",
   "name": "python3"
  },
  "language_info": {
   "codemirror_mode": {
    "name": "ipython",
    "version": 3
   },
   "file_extension": ".py",
   "mimetype": "text/x-python",
   "name": "python",
   "nbconvert_exporter": "python",
   "pygments_lexer": "ipython3",
   "version": "3.12.4"
  }
 },
 "nbformat": 4,
 "nbformat_minor": 2
}
